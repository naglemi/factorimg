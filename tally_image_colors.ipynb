{
 "cells": [
  {
   "cell_type": "markdown",
   "metadata": {},
   "source": [
    "# Checking out the functionality of `factorimg`"
   ]
  },
  {
   "cell_type": "markdown",
   "metadata": {},
   "source": [
    "## Make a hex table and legend for a single image"
   ]
  },
  {
   "cell_type": "markdown",
   "metadata": {},
   "source": [
    "Import necessary modules and functions from package, as well as `os` for working with filepaths."
   ]
  },
  {
   "cell_type": "code",
   "execution_count": 1,
   "metadata": {},
   "outputs": [],
   "source": [
    "from factorimg.hextable import HexTable\n",
    "import os\n",
    "import pandas as pd"
   ]
  },
  {
   "cell_type": "markdown",
   "metadata": {},
   "source": [
    "Set the path to the data folder in our workspace."
   ]
  },
  {
   "cell_type": "code",
   "execution_count": 2,
   "metadata": {},
   "outputs": [],
   "source": [
    "data_folder = 'data'"
   ]
  },
  {
   "cell_type": "markdown",
   "metadata": {},
   "source": [
    "\n",
    "Create an instance of HexTable"
   ]
  },
  {
   "cell_type": "code",
   "execution_count": 3,
   "metadata": {},
   "outputs": [],
   "source": [
    "hex_table = HexTable()"
   ]
  },
  {
   "cell_type": "markdown",
   "metadata": {},
   "source": [
    "Get the first image file in the data folder"
   ]
  },
  {
   "cell_type": "code",
   "execution_count": 4,
   "metadata": {},
   "outputs": [],
   "source": [
    "image_files = [f for f in os.listdir(data_folder) if f.endswith(('.png', '.jpg'))]\n",
    "first_image_file = image_files[0] if image_files else None"
   ]
  },
  {
   "cell_type": "code",
   "execution_count": 5,
   "metadata": {},
   "outputs": [
    {
     "name": "stdout",
     "output_type": "stream",
     "text": [
      "  Unnamed: 0    r    g    b    count  \\\n",
      "0    #000000    0    0    0  2157143   \n",
      "1    #feff19  254  255   25     4598   \n",
      "2    #000080    0    0  128    17232   \n",
      "3    #800000  128    0    0    44533   \n",
      "4    #008000    0  128    0       67   \n",
      "\n",
      "                                         image_paths  \n",
      "0  ['data/GTNEC1_I5.0_F1.9_L100LED30_100158_4_0_4...  \n",
      "1  ['data/GTNEC1_I5.0_F1.9_L100LED30_100158_4_0_4...  \n",
      "2  ['data/GTNEC1_I5.0_F1.9_L100LED30_100158_4_0_4...  \n",
      "3  ['data/GTNEC1_I5.0_F1.9_L100LED30_100158_4_0_4...  \n",
      "4  ['data/GTNEC1_I5.0_F1.9_L100LED30_100158_4_0_4...  \n"
     ]
    }
   ],
   "source": [
    "\n",
    "if first_image_file:\n",
    "    # Process the first image and view the legend and table\n",
    "    image_path = os.path.join(data_folder, first_image_file)\n",
    "    hex_table.process_image(image_path)\n",
    "    hex_table.create_legend(f'legend_{first_image_file}.jpg', view=True)\n",
    "    hex_table.save(f'color_data_{first_image_file}.csv')\n",
    "\n",
    "    # Print the color data of the first image\n",
    "    color_data_image1 = pd.read_csv(f'color_data_{first_image_file}.csv')\n",
    "    print(color_data_image1)\n"
   ]
  },
  {
   "cell_type": "markdown",
   "metadata": {},
   "source": [
    "## Run for the whole folder"
   ]
  },
  {
   "cell_type": "code",
   "execution_count": 6,
   "metadata": {},
   "outputs": [
    {
     "name": "stdout",
     "output_type": "stream",
     "text": [
      "  Unnamed: 0    r    g    b     count  \\\n",
      "0    #000000    0    0    0  19495322   \n",
      "1    #feff19  254  255   25     52218   \n",
      "2    #000080    0    0  128     79249   \n",
      "3    #800000  128    0    0    388068   \n",
      "4    #008000    0  128    0       138   \n",
      "\n",
      "                                         image_paths  \n",
      "0  ['data/GTNEC1_I5.0_F1.9_L100LED30_100158_4_0_4...  \n",
      "1  ['data/GTNEC1_I5.0_F1.9_L100LED30_100158_4_0_4...  \n",
      "2  ['data/GTNEC1_I5.0_F1.9_L100LED30_100158_4_0_4...  \n",
      "3  ['data/GTNEC1_I5.0_F1.9_L100LED30_100158_4_0_4...  \n",
      "4  ['data/GTNEC1_I5.0_F1.9_L100LED30_100158_4_0_4...  \n"
     ]
    }
   ],
   "source": [
    "# Process the whole folder of images and view the results\n",
    "hex_table.process_folder(data_folder)\n",
    "hex_table.create_legend('legend_folder.jpg')\n",
    "hex_table.save('color_data_folder.csv')\n",
    "\n",
    "# Print the color data of the whole folder\n",
    "color_data_folder = pd.read_csv('color_data_folder.csv')\n",
    "print(color_data_folder)"
   ]
  },
  {
   "cell_type": "markdown",
   "metadata": {},
   "source": [
    "## Make a barplot showing a measure of frequency for each color."
   ]
  },
  {
   "cell_type": "code",
   "execution_count": 7,
   "metadata": {},
   "outputs": [
    {
     "ename": "NameError",
     "evalue": "name 'np' is not defined",
     "output_type": "error",
     "traceback": [
      "\u001b[0;31m---------------------------------------------------------------------------\u001b[0m",
      "\u001b[0;31mNameError\u001b[0m                                 Traceback (most recent call last)",
      "Cell \u001b[0;32mIn[7], line 1\u001b[0m\n\u001b[0;32m----> 1\u001b[0m \u001b[43mhex_table\u001b[49m\u001b[38;5;241;43m.\u001b[39;49m\u001b[43mcreate_barplot\u001b[49m\u001b[43m(\u001b[49m\u001b[38;5;124;43m'\u001b[39;49m\u001b[38;5;124;43mbarplot.jpg\u001b[39;49m\u001b[38;5;124;43m'\u001b[39;49m\u001b[43m,\u001b[49m\u001b[43m \u001b[49m\u001b[43mview\u001b[49m\u001b[38;5;241;43m=\u001b[39;49m\u001b[38;5;28;43;01mTrue\u001b[39;49;00m\u001b[43m)\u001b[49m\n",
      "File \u001b[0;32m~/code/factorimg/factorimg/hextable.py:91\u001b[0m, in \u001b[0;36mHexTable.create_barplot\u001b[0;34m(self, plot_path, view)\u001b[0m\n\u001b[1;32m     89\u001b[0m \u001b[38;5;66;03m# Create a bar plot with hex colors as x-values and log of counts as y-values\u001b[39;00m\n\u001b[1;32m     90\u001b[0m plt\u001b[38;5;241m.\u001b[39mfigure(figsize\u001b[38;5;241m=\u001b[39m(\u001b[38;5;241m10\u001b[39m, \u001b[38;5;241m6\u001b[39m))\n\u001b[0;32m---> 91\u001b[0m plt\u001b[38;5;241m.\u001b[39mbar(df\u001b[38;5;241m.\u001b[39mindex, \u001b[43mnp\u001b[49m\u001b[38;5;241m.\u001b[39mlog(df[\u001b[38;5;124m'\u001b[39m\u001b[38;5;124mcount\u001b[39m\u001b[38;5;124m'\u001b[39m]), color\u001b[38;5;241m=\u001b[39mdf\u001b[38;5;241m.\u001b[39mindex)\n\u001b[1;32m     93\u001b[0m \u001b[38;5;66;03m# Set plot title and labels\u001b[39;00m\n\u001b[1;32m     94\u001b[0m plt\u001b[38;5;241m.\u001b[39mtitle(\u001b[38;5;124m'\u001b[39m\u001b[38;5;124mColor distribution\u001b[39m\u001b[38;5;124m'\u001b[39m)\n",
      "\u001b[0;31mNameError\u001b[0m: name 'np' is not defined"
     ]
    },
    {
     "data": {
      "text/plain": [
       "<Figure size 1000x600 with 0 Axes>"
      ]
     },
     "metadata": {},
     "output_type": "display_data"
    }
   ],
   "source": [
    "hex_table.create_barplot('barplot.jpg', view=True)"
   ]
  }
 ],
 "metadata": {
  "kernelspec": {
   "display_name": ".venv",
   "language": "python",
   "name": "python3"
  },
  "language_info": {
   "codemirror_mode": {
    "name": "ipython",
    "version": 3
   },
   "file_extension": ".py",
   "mimetype": "text/x-python",
   "name": "python",
   "nbconvert_exporter": "python",
   "pygments_lexer": "ipython3",
   "version": "3.11.5"
  }
 },
 "nbformat": 4,
 "nbformat_minor": 2
}
